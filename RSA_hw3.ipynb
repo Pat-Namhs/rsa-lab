{
 "cells": [
  {
   "cell_type": "code",
   "execution_count": 1,
   "id": "d26168a3-29c9-4af0-ae5f-a89731af9c64",
   "metadata": {
    "ExecuteTime": {
     "end_time": "2025-09-15T22:53:25.758424Z",
     "start_time": "2025-09-15T22:53:23.577747Z"
    }
   },
   "outputs": [
    {
     "name": "stdout",
     "output_type": "stream",
     "text": [
      "Requirement already satisfied: pycryptodome in c:\\users\\fitzpatrick\\appdata\\local\\programs\\python\\python312\\lib\\site-packages (3.23.0)\n"
     ]
    }
   ],
   "source": [
    "!pip install pycryptodome"
   ]
  },
  {
   "cell_type": "code",
   "execution_count": 1,
   "id": "initial_id",
   "metadata": {},
   "outputs": [
    {
     "data": {
      "text/plain": [
       "'\\n########## Question 1 (0 points) ##########\\n\\n## Resoures used / People worked with\\n\\n# Add resource at the end-Ptouch 9/12/2025\\n\\n\\n######## student answers here ########\\n'"
      ]
     },
     "execution_count": 1,
     "metadata": {},
     "output_type": "execute_result"
    }
   ],
   "source": [
    "########## Question 1 (0 points) ##########\n",
    "\n",
    "## Resoures used / People worked with\n",
    "\n",
    "# Add resource at the end-Ptouch 9/12/2025\n",
    "\n",
    "\n",
    "######## student answers here ########"
   ]
  },
  {
   "cell_type": "code",
   "execution_count": 1,
   "id": "b6795676696390ae",
   "metadata": {
    "ExecuteTime": {
     "end_time": "2025-09-15T17:55:54.045544Z",
     "start_time": "2025-09-15T17:55:54.041061Z"
    },
    "collapsed": false,
    "jupyter": {
     "outputs_hidden": false
    }
   },
   "outputs": [],
   "source": [
    "# Done 9/13/25\n",
    "########## Question 2 (10 points) ##########\n",
    "\n",
    "# install pycrpytodome\n",
    "# use bytes_to_long to encode the message\n",
    "message = b'This is a secret message for Aaron and Matt: I want an A!'\n",
    "\n",
    "\n",
    "\n",
    "\n",
    "#encoded_message = ...  \n",
    "#print('encoded_message:', encoded_message)\n"
   ]
  },
  {
   "cell_type": "code",
   "execution_count": 1,
   "id": "b938ffa757ef3cce",
   "metadata": {
    "collapsed": false,
    "jupyter": {
     "outputs_hidden": false
    }
   },
   "outputs": [
    {
     "name": "stdout",
     "output_type": "stream",
     "text": [
      "encoded_message: 61350900581473535129405983010356211867018600038007221145744717313351488407028771212587494491695427024167991689288623317672691990347661601\n"
     ]
    }
   ],
   "source": [
    "from Crypto.Util.number import bytes_to_long\n",
    "\n",
    "message = b'This is a secret message for Aaron and Matt: I want an A!'\n",
    "encoded_message = bytes_to_long(message)\n",
    "\n",
    "print('encoded_message:',encoded_message)"
   ]
  },
  {
   "cell_type": "code",
   "execution_count": 1,
   "id": "8109f87446e3e6ff",
   "metadata": {
    "ExecuteTime": {
     "end_time": "2025-09-17T16:18:12.952403Z",
     "start_time": "2025-09-17T16:18:12.945412Z"
    },
    "collapsed": false,
    "jupyter": {
     "outputs_hidden": false
    }
   },
   "outputs": [
    {
     "name": "stdout",
     "output_type": "stream",
     "text": [
      "n: Ellipsis \n",
      "e: Ellipsis\n"
     ]
    }
   ],
   "source": [
    "#Done 9/14/2025\n",
    "########## Question 3 (10 points) ##########\n",
    "\n",
    "# use the documentation and provide me the public modulus and public exponent\n",
    "# https://pycryptodome.readthedocs.io/en/latest/src/public_key/rsa.html#Crypto.PublicKey.RSA.RsaKey\n",
    "\n",
    "\n",
    "n = ...\n",
    "e = ...\n",
    "print('n:', n, '\\ne:', e)"
   ]
  },
  {
   "cell_type": "code",
   "execution_count": 4,
   "id": "e13b5613f81bf25c",
   "metadata": {
    "collapsed": false,
    "jupyter": {
     "outputs_hidden": false
    }
   },
   "outputs": [
    {
     "name": "stdout",
     "output_type": "stream",
     "text": [
      "Public Key (n): 19842479094310227138092288304437968977048873677796001967821022271303573081985516597718380466207017587315544693482033629144082381639526501938048651375864297856958842933839907294899522377067932114938928398289286198883123740528625479374389715160338284506130022785203324364443090078720089204189324359749995530925863402242112942405283941519784599006180436786087716961839131116280977975518957817446584534939803303979613910174989039318089032325739986436330087707549111983392228734007144678082024279968622944448393736736042582204660413790569038994076392368640904232736244442389438497598546237148584733974777554638352955930399\n",
      "Public Exponent (e): 65537\n"
     ]
    }
   ],
   "source": [
    "from Crypto.PublicKey import RSA\n",
    "\n",
    "key = RSA.generate(2048)\n",
    "n = key.n\n",
    "e = key.e\n",
    "\n",
    "print(\"Public Key (n):\", n)\n",
    "print(\"Public Exponent (e):\" , e)"
   ]
  },
  {
   "cell_type": "code",
   "execution_count": 7,
   "id": "31d93ec0-685a-451d-803a-fb2fcf47ad58",
   "metadata": {},
   "outputs": [
    {
     "name": "stdout",
     "output_type": "stream",
     "text": [
      "p: Ellipsis \n",
      "q: Ellipsis \n",
      "d: Ellipsis\n"
     ]
    }
   ],
   "source": [
    "#Done 9/15/20205\n",
    "########## Question 4 (10 points) ##########\n",
    "\n",
    "# use the documentation and provide me my private modulus' factorization and private exponent\n",
    "# https://pycryptodome.readthedocs.io/en/latest/src/public_key/rsa.html#Crypto.PublicKey.RSA.RsaKey\n",
    "\n",
    "\n",
    "\n",
    "\n",
    "p = ...\n",
    "q = ...\n",
    "d = ...\n",
    "print('p:', p, '\\nq:', q, '\\nd:', d)\n",
    "\n",
    "##%%\n"
   ]
  },
  {
   "cell_type": "code",
   "execution_count": 3,
   "id": "d84a8e65-9a8c-4713-a171-48ecbc5d0f57",
   "metadata": {},
   "outputs": [
    {
     "name": "stdout",
     "output_type": "stream",
     "text": [
      "RSA Modulus (n): 21659976053404389414568079615483056423981765604886672571977212489742770474841802254840737773046757951986623744455734005626208151085268606544785961412556266468827115594590970503920289545323500763631925249048749528236544525809798182264526129622242028167850347778269122380067923217282633143310234127860906406590193371312541836051725401697910626929164312161256724739845287634427296931732905025375710540742699239097982592018027026010793103215799901604989063163857801645441266262126975251020026143585687057900058929822491551711548007205792006933869841849656032426428466756195250417512771717905670478674561810402762104249273\n",
      "Public Exponent (e) 65537\n",
      "Private Key (d) 418082452775631362580353399050705195177333925724119822444591204960932063577442968893503414604027477749409936932366503152679452997892256088608789556843976335246750709174322561109894659121324266688960212399814885533656237318604676756101523627449168647211967132146885573199657031445786821586087952938707090717247075927806346460222696545012060733289385602076949139055218822777445896317088642585209362513660539741238785451411785895116060321267739088021482435099248933920515582283931903550450208833893688774033591690106156681113865676049351155142872895427787353943201656309801108274621200959920479632506978464734124484533\n",
      "First Prime Factor (p): 138722616265315276503067150285772328993418270336365774413460322471190262851913908585566854194074812078303831836184762781612378319548398731622677453848741324103278584971595463172280081811974400627442265947832350841667045928034268578807025031544019753454643746109658226701633390753515156237077554505825248482199\n",
      "Second Prime Factor (q): 156138751102980883036671725130448056624281872487935466410581471350990695020881734096968990060268068899863517391981225910428752346904612271260540374752556461773695411430442900111892040946131091119383858661625848766988143245151946533245851642103396218131445974848093982910861926116338347199848012700667830990127\n"
     ]
    }
   ],
   "source": [
    "key = RSA.generate(2048)\n",
    "#RSA Modulus\n",
    "n = key.n\n",
    "#Public Exponent\n",
    "e = key.e\n",
    "#Private Key\n",
    "d = key.d\n",
    "#First Prime Factor\n",
    "p = key.p\n",
    "#Second Prime Factor\n",
    "q = key.q\n",
    "\n",
    "print(\"RSA Modulus (n):\", n)\n",
    "print(\"Public Exponent (e)\", e)\n",
    "print(\"Private Key (d)\", d)\n",
    "print(\"First Prime Factor (p):\", p)\n",
    "print(\"Second Prime Factor (q):\", q)"
   ]
  },
  {
   "cell_type": "code",
   "execution_count": null,
   "id": "629f4da8-ecde-417a-9bed-ab7dbf1b14c3",
   "metadata": {},
   "outputs": [],
   "source": [
    "#Done 9/15/2025\n",
    "########## Question 5 (20 points) ##########\n",
    "\n",
    "# encrypt the message with RSA\n",
    "# use PKCS1_OEAP as the cipher (an RSA cipher with OEAP padding)\n",
    "\n",
    "# https://pycryptodome.readthedocs.io/en/latest/src/examples.html\n",
    "message = b'This is a secret message for Aaron and Matt: I want an A!'\n",
    "\n",
    "\n",
    "\n",
    "\n",
    "\n",
    "#ciphertext = ...\n",
    "#print('ciphertext:', ciphertext)\n",
    "##%%\n"
   ]
  },
  {
   "cell_type": "code",
   "execution_count": 2,
   "id": "ff882924-ed48-4e71-8810-d48bf25dd72d",
   "metadata": {},
   "outputs": [
    {
     "name": "stdout",
     "output_type": "stream",
     "text": [
      "ciphertext: b\"%T\\xe7z\\xf7\\x8d\\xa2m\\x90q{\\x0f/^\\xcc\\xc5\\x9c\\xa5tp\\xed\\x98\\x9d\\xe7\\x1b\\xfb$1\\x92L\\x95\\xd4\\x7f\\x97\\x9bf\\x95y\\x91\\xb5g\\xdby\\xf5#7\\x00\\xda.\\xfd_nI\\xc5^\\x9c\\xa7\\x99U\\xab\\x1d\\xa2\\x95\\xb62\\xc5f\\xe1\\xae0H\\\\\\x8d\\xa2\\x01\\x03'\\xecm\\x16\\xbeV}\\x94\\xcc\\x12F\\x81\\x0e+FLc\\x110\\xef\\x92_R\\x9e\\xf9\\x95<\\x8d\\xe2\\x92\\xb0z,\\x95\\xa4\\xa6N\\xc7\\x9d\\x15mZ<\\xd6\\xeb\\xb3\\x80\\x9e\\xc5\\xb6\\xd3\\x8bn\\x11\\x7f\\x82\\x0c\\xa3\\xcf\\xd6\\xcb\\xac\\x81\\xc6\\x06M\\xec\\xf1\\x1c\\xf6\\xb9\\xf7\\xe60\\xb0-\\xde,F<0\\n\\x12z\\xa6\\xf6\\xf1)\\xd2\\xca\\x92!_\\x9b\\xe3\\x81\\xf5\\xfdC\\x958\\x1c\\xa1\\xc1\\xd0g8\\x86\\x8cR\\x84\\x14\\xddY \\xdc\\x1b\\xf1\\xcc^L\\xa0\\xa6R9\\xb6\\x08\\x84nf\\x1e\\x8c\\xf7\\x0cE\\xcf\\x97?\\xfc\\x9cN\\xc4\\xc72T,\\x11\\xe1\\xa5:t\\xc4At\\xd7\\x8b\\xa2\\xe6\\x1bY\\x0e\\x9a\\x04na\\xc1\\xe3W\\xa5\\xe9d\\xfcO\\x7f\\x9d%\\x95\\xbdw\\xff\"\n",
      "*****************Debugging Line******************\n",
      "Key: Private RSA key at 0x20A26FF1E20\n",
      "Public_Key: Public RSA key at 0x20A26E66660\n"
     ]
    }
   ],
   "source": [
    "from Crypto.PublicKey import RSA\n",
    "from Crypto.Cipher import PKCS1_OAEP\n",
    "\n",
    "#Generate RSA Key\n",
    "key = RSA.generate(2048)\n",
    "public_key = key.publickey()\n",
    "\n",
    "#Message to encrypt\n",
    "message = b'This is a secret message for Aaron and Matt: I want an A!'\n",
    "\n",
    "#Create cipher PKCS1 obj using public key\n",
    "cipher = PKCS1_OAEP.new(public_key)\n",
    "ciphertext =  cipher.encrypt(message)\n",
    "\n",
    "print(\"ciphertext:\", ciphertext)\n",
    "\n",
    "#Debugging\n",
    "print(\"*****************Debugging Line******************\")\n",
    "print(\"Key:\", key)\n",
    "print(\"Public_Key:\", public_key)\n",
    "\n"
   ]
  },
  {
   "cell_type": "code",
   "execution_count": null,
   "id": "e52d3947-8dca-4199-a4ed-4b0982b4e6d3",
   "metadata": {},
   "outputs": [],
   "source": [
    "########## Question 6 (20 points) ##########\n",
    "\n",
    "# decrypt the message with RSA\n",
    "# use PKCS1_OEAP as the cipher (an RSA cipher with OEAP padding)\n",
    "\n",
    "# https://pycryptodome.readthedocs.io/en/latest/src/examples.html\n",
    "#message = b'\\x8f\\x1c\\xfc]\\x08\\xfe\\x92\\x0f\\x1a\\x8f\\xe6L\\xdb\\x8d\\x94\\x0c\\rR\\x08$\\xf8,s\\x81\\xf2\\xe6\\xbeF\\xf6\\xd1\\xda\\xe9]>\\xb6u\\xc6\\xb4\\x149Gs,\\xa9\\x10\\xf1\\xb6\\xfc\\xd3\\x11\\x17\\xfc\\x96\\x7fr\\xd2+\\xf7\\x9e\\x9bq\\x0c\\xcb:z\\xc3\\xffi:\\x98`\\x9a\\xab\\x8c\\x90\\x15\\xce1\\xda\\x07w\\xabX,\\x89\\xeb\\x17o\\xb4f\\xa7%\\x9c\\x0b\\x1d8C\\x98$\\xe2\\x95f+\\xc7\\x05\\x11\\xdb\\x0ch\\x9b\\xe2\\'\\x12)\\xf4 \\xe5RZy_@)9\\x95\\xaf\\xf9\\xeb\\xbao>t\\x8d\\xb8\\xbc\\x97NzFQ\\n\\xb2o\\xbd\\xdc\\xea\\xa4\\xefBp\\xc0\\xf2Rj\\x08\\x9f\\xa1\\xcea\\xd1\\xa3\\xe2\\x96#n\\x84\\xdaV\\x94&\"\\xf4q\\xaa\\xef\\xb6R\\xa1\\xff\\x9c\\xe1\\x82~2\\xff;\\xe3:\\x7fM\\xf6\\x02NgQ\\xf3pL)j\\n\\xcb\\xa1\\x04\\xdc#\\x87\\xd6\\xbb\\x98\\x9b\\x1b\\x87\\x07\\x11!)\\xbeR\\xfe\\x18\\xd1\\xa5\\xado\\x1cm\\xa2\\xde7\\xe8<\\xd1\\xc7\\xa4OW/\\xb6\\xbfjy~y\\x172\\xf3N\\xac\\xf5\\x89U$\\x07\\x83\\xb0'\n",
    "\n",
    "\n",
    "\n",
    "\n",
    "\n",
    "#plaintext = ...\n",
    "#print('plaintext:', plaintext)\n",
    "##%%\n"
   ]
  },
  {
   "cell_type": "code",
   "execution_count": 2,
   "id": "7e3b0f6a-e64c-40cb-b47d-0fc487c38b6c",
   "metadata": {},
   "outputs": [
    {
     "name": "stdout",
     "output_type": "stream",
     "text": [
      "plaintext: You found your first flag!    cyber202{Gr3@tJ0b!}\n"
     ]
    }
   ],
   "source": [
    "#ISSUE with the private key?? Come back to it later\n",
    "#Fixed issue 9/17/2025\n",
    "from Crypto.PublicKey import RSA\n",
    "from Crypto.Cipher import PKCS1_OAEP\n",
    "from Crypto.Hash import SHA256\n",
    "\n",
    "\n",
    "#Need key from Files\n",
    "with open('private_key.pem', 'rb') as f:\n",
    "    private_key = RSA.import_key(f.read())\n",
    "\n",
    "#Cipher obj according to doc using private key and OAEP Padding\n",
    "cipher = PKCS1_OAEP.new(private_key)\n",
    "\n",
    "#Cipher text input\n",
    "message = (b'\\x8f\\x1c\\xfc]\\x08\\xfe\\x92\\x0f\\x1a\\x8f\\xe6L\\xdb\\x8d\\x94\\x0c\\rR\\x08$\\xf8,s\\x81\\xf2\\xe6\\xbeF\\xf6\\xd1\\xda\\xe9]>\\xb6u\\xc6\\xb4\\x149Gs,\\xa9\\x10\\xf1\\xb6\\xfc\\xd3\\x11\\x17\\xfc\\x96\\x7fr\\xd2+\\xf7\\x9e\\x9bq\\x0c\\xcb:z\\xc3\\xffi:\\x98`\\x9a\\xab\\x8c\\x90\\x15\\xce1\\xda\\x07w\\xabX,\\x89\\xeb\\x17o\\xb4f\\xa7%\\x9c\\x0b\\x1d8C\\x98$\\xe2\\x95f+\\xc7\\x05\\x11\\xdb\\x0ch\\x9b\\xe2\\'\\x12)\\xf4 \\xe5RZy_@)9\\x95\\xaf\\xf9\\xeb\\xbao>t\\x8d\\xb8\\xbc\\x97NzFQ\\n\\xb2o\\xbd\\xdc\\xea\\xa4\\xefBp\\xc0\\xf2Rj\\x08\\x9f\\xa1\\xcea\\xd1\\xa3\\xe2\\x96#n\\x84\\xdaV\\x94&\"\\xf4q\\xaa\\xef\\xb6R\\xa1\\xff\\x9c\\xe1\\x82~2\\xff;\\xe3:\\x7fM\\xf6\\x02NgQ\\xf3pL)j\\n\\xcb\\xa1\\x04\\xdc#\\x87\\xd6\\xbb\\x98\\x9b\\x1b\\x87\\x07\\x11!)\\xbeR\\xfe\\x18\\xd1\\xa5\\xado\\x1cm\\xa2\\xde7\\xe8<\\xd1\\xc7\\xa4OW/\\xb6\\xbfjy~y\\x172\\xf3N\\xac\\xf5\\x89U$\\x07\\x83\\xb0')\n",
    "\n",
    "#Bug Checking to ensure the key sizing\n",
    "assert len(message) == private_key.size_in_bytes(), \"Ciphertext mismatch sizing\"\n",
    "\n",
    "plaintext = cipher.decrypt(message)\n",
    "\n",
    "print(\"plaintext:\", plaintext.decode(errors=\"replace\"))"
   ]
  },
  {
   "cell_type": "code",
   "execution_count": null,
   "id": "02ef473b-15a5-4bbd-838b-a1b94799f50b",
   "metadata": {},
   "outputs": [],
   "source": [
    "#Incomplete Still need work 9/15/2025\n",
    "########## Question 7 (30 points) ##########\n",
    "\n",
    "# create your own RSA key, include the public file in your submission\n",
    "# send me a message with your name, a message, and a class flag (like: cyber202{flag})\n",
    "# digitally sign the encrypted message using PKCS#1 v1.5\n",
    "# https://pycryptodome.readthedocs.io/en/latest/src/signature/pkcs1_v1_5.html\n",
    "\n",
    "\n",
    "\n",
    "\n",
    "#signature = ...\n",
    "#print('signature:', signature)"
   ]
  },
  {
   "cell_type": "code",
   "execution_count": 5,
   "id": "cf3d9c28-452f-46b1-987e-a36bddeb8bf0",
   "metadata": {},
   "outputs": [
    {
     "name": "stdout",
     "output_type": "stream",
     "text": [
      "Encrypted message (ciphertext bytes): b\"A_\\xbco4\\xaa\\xc4\\x1d\\xd6\\xf1\\r?\\x0fnxz\\x01\\xdd\\x17K\\xd8\\x80\\xa5\\xac!fY\\x03z\\x88\\xbb\\xaegH\\xfb\\n~#E\\xdc\\xcc'\\xbf\\xf6/\\xec.u\\xb8cq\\x8b\\x15Q\\xe3G\\xca%\\xa3,Q\\x0b\\x13\\xc9\\xb2@\\x00,l\\x96\\xb9\\x12\\xcbe\\xb4O\\xf4`8\\\\\\xef^\\x16\\x1c\\xf9\\xf2\\xcbo\\x06c\\xf7O>\\x01|q\\x186\\x08\\xf8\\x84\\xbb\\xf8\\x85\\xe4\\x90\\xa5.\\xc0\\xb5\\xeeR;>N\\xc3;i\\x9b\\xae\\x12\\x80|\\x03%\\xe8\\xd8\\xb5\\xfe\\xc286\\xa8\\xf8\\x12GQeG\\xd66,\\x8e\\x19IZI\\xaa\\xd9-N\\xc3'o\\xf9\\xe9\\xd6\\x98`\\xff\\xee\\xdf\\xa8Z\\x8c\\xe8i=\\xcf\\xd9\\xe9\\x94\\xc0\\xe0\\x82g\\xa4\\x842>\\x01\\xee\\xa1\\x9c3\\x9bv\\xfbp\\x05\\x01\\x01\\xd8\\x14\\x19\\xd7\\xd6\\xc8GQ~#C\\xeaE\\xa1\\xb8\\xe8\\x82\\x9f\\xfe\\xeb\\x1c\\x1aC\\xbfe\\xc0\\x82\\x8a\\n\\xab\\x8ea\\x1d.\\x99\\x8fI>d\\x93nr\\x87\\xd7^\\xa4\\x1e\\xdd5\\x06\\xa8x\\x82\\xec\\x14\\xa8\\x12\\xa5\\xd8\\xde`\\x84/\\xd9\"\n",
      "Encrypted message (hex): 415fbc6f34aac41dd6f10d3f0f6e787a01dd174bd880a5ac216659037a88bbae6748fb0a7e2345dccc27bff62fec2e75b863718b1551e347ca25a32c510b13c9b240002c6c96b912cb65b44ff460385cef5e161cf9f2cb6f0663f74f3e017c71183608f884bbf885e490a52ec0b5ee523b3e4ec33b699bae12807c0325e8d8b5fec23836a8f81247516547d6362c8e19495a49aad92d4ec3276ff9e9d69860ffeedfa85a8ce8693dcfd9e994c0e08267a484323e01eea19c339b76fb70050101d81419d7d6c847517e2343ea45a1b8e8829ffeeb1c1a43bf65c0828a0aab8e611d2e998f493e64936e7287d75ea41edd3506a87882ec14a812a5d8de60842fd9\n",
      "Signature (bytes): b'c\\xff\\x14HW\\xc3\\xc7G;\\xd2\\xb7.yp\\xd9\\x86\\x80\\xbd\\xd0\\x15\\x9c\\x8c\\xd0M>W\\xd1A1gm\\x9c\\x97B0\\x0e\\xd6\\xc6{\\x07\\xb5,\\x9d\\x905\\xce\\x9dA\\xe3\\xae\\x8b~Fq\\xcfr[\\x0c\\xecJ\\xef\\xcd\\xafk\\x8b\\x84-L\\x1101=q\\xdb:O\\x8c\\xe6\\xeaO\\xec\\xf1\\xd3h\\xfb\\xcc\\xabq\\xa1*{6]\\xc4\\xc5\\xef\\xb2<+\\xac\\xee\\xcb9z\\xbf;\\xe1\\x9c\\x8f\\x98\\xe3\\xfc\\xbb\\xff~\\xc9\\x16j/\\xf4EB\\xffk\\x1f\\x92i,\\xf8\\x9c\\xff\\x8d\\xc2\\xfa\\x801\\xf3%\\xc2\\x1f\\x16j6S\\xdd\\xc86\\x18`\\xa2\\x0b\\xd6\\xde\\xb0ld\\xfc\\x9e\\xe2\\x0fe9\\x03\\x88@\\xae\\x0e\\xe0\\xd8\\xc6>\\xdf\\x0e\\x01\\xf3\\x9f\\x92A#{\\xe6_\\xcb\\x1b4\\xb8T\\x18h<\\xf8!z\\x9b\\x9c\\xb9\\xb8\\xd9\\x9ae\\xfb\\x8c\\x12Vi\\x92\\x0e\\xc1#8\\xeb7\\x9b\\xcaW\\xe2\\xb6\\xd7\\x86\\x82\\xbaC!\\xea\\xe1\\x17\\xd4\\x18<{\\x85C1]\\xf0h\"\\x1e)\\x1d\\xe3\\xf8\\xbf\\x10=d\\x83\\x12\\x98\\xe7\\xba\\x8f\\x9dp\\x0f\\x83'\n",
      "Signature (hex): 63ff144857c3c7473bd2b72e7970d98680bdd0159c8cd04d3e57d14131676d9c9742300ed6c67b07b52c9d9035ce9d41e3ae8b7e4671cf725b0cec4aefcdaf6b8b842d4c1130313d71db3a4f8ce6ea4fecf1d368fbccab71a12a7b365dc4c5efb23c2baceecb397abf3be19c8f98e3fcbbff7ec9166a2ff44542ff6b1f92692cf89cff8dc2fa8031f325c21f166a3653ddc8361860a20bd6deb06c64fc9ee20f6539038840ae0ee0d8c63edf0e01f39f9241237be65fcb1b34b85418683cf8217a9b9cb9b8d99a65fb8c125669920ec12338eb379bca57e2b6d78682ba4321eae117d4183c7b8543315df068221e291de3f8bf103d64831298e7ba8f9d700f83\n",
      "Decrypted plaintext: Patrick Touch: This is the secret message to the professor! cyber202{F33$23gfd^4f%@gf041}\n"
     ]
    }
   ],
   "source": [
    "from Crypto.PublicKey import RSA\n",
    "from Crypto.Cipher import PKCS1_OAEP\n",
    "from Crypto.Signature import pkcs1_15\n",
    "from Crypto.Hash import SHA256\n",
    "\n",
    "#Step 1 -  Generate RSA key pair\n",
    "key = RSA.generate(2048)\n",
    "pubkey = key.publickey()\n",
    "\n",
    "# Step 2 - Save private pem file\n",
    "#pat_private_key_pem = key.export_key()\n",
    "with open('pat_private_key.pem', 'wb') as f:\n",
    "    f.write(key.export_key())\n",
    "\n",
    "#Step 3 - Save public pem file\n",
    "#public_key_pem = key.publickey().export_key()\n",
    "with open('pat_public_key.pem', 'wb') as f:\n",
    "    f.write(pubkey.export_key())\n",
    "\n",
    "#Step 4 - Message REQUIREMENT\n",
    "name = \"Patrick Touch\"\n",
    "message_text = \"This is the secret message to the professor!\"\n",
    "class_flag = 'cyber202{F33$23gfd^4f%@gf041}'\n",
    "\n",
    "# Process still missing\n",
    "\n",
    "#Step 5 Prep String\n",
    "full_message = f\"{name}: {message_text} {class_flag}\"\n",
    "message_bytes = full_message.encode(\"utf-8\")\n",
    "\n",
    "#Step 6 - Encrypt message with Public Key with PKCS1_OAEP +SHA256\n",
    "#public_key = key.publickey()\n",
    "cipher = PKCS1_OAEP.new(pubkey, hashAlgo=SHA256)\n",
    "ciphertext = cipher.encrypt(message_bytes)\n",
    "\n",
    "print(\"Encrypted message (ciphertext bytes):\", ciphertext)\n",
    "print(\"Encrypted message (hex):\", ciphertext.hex())\n",
    "\n",
    "#Step 7 - Sign with a Digital Signature\n",
    "h = SHA256.new(ciphertext)\n",
    "signature = pkcs1_15.new(key).sign(h)\n",
    "      \n",
    "print(\"Signature (bytes):\", signature)\n",
    "print(\"Signature (hex):\", signature.hex())\n",
    "\n",
    "#Step 8 - Print out (optional) to decrypt - Code creates unique code priv\n",
    "cipher_for_decrypt = PKCS1_OAEP.new(key, hashAlgo=SHA256)\n",
    "plaintext = cipher_for_decrypt.decrypt(ciphertext)\n",
    "print(\"Decrypted plaintext:\", plaintext.decode(\"utf-8\"))\n",
    "\n",
    "\n",
    "\n"
   ]
  },
  {
   "cell_type": "code",
   "execution_count": null,
   "id": "a9545c02-e1f7-418c-abbb-fc994da1aae3",
   "metadata": {},
   "outputs": [],
   "source": []
  }
 ],
 "metadata": {
  "kernelspec": {
   "display_name": "Python 3 (ipykernel)",
   "language": "python",
   "name": "python3"
  },
  "language_info": {
   "codemirror_mode": {
    "name": "ipython",
    "version": 3
   },
   "file_extension": ".py",
   "mimetype": "text/x-python",
   "name": "python",
   "nbconvert_exporter": "python",
   "pygments_lexer": "ipython3",
   "version": "3.12.0"
  }
 },
 "nbformat": 4,
 "nbformat_minor": 5
}

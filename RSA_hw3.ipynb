{
 "cells": [
  {
   "cell_type": "code",
   "execution_count": null,
   "id": "d26168a3-29c9-4af0-ae5f-a89731af9c64",
   "metadata": {},
   "outputs": [],
   "source": [
    "!pip install pycryptodome"
   ]
  },
  {
   "cell_type": "code",
   "execution_count": 1,
   "id": "initial_id",
   "metadata": {},
   "outputs": [
    {
     "data": {
      "text/plain": [
       "'\\n########## Question 1 (0 points) ##########\\n\\n## Resoures used / People worked with\\n\\n# Add resource at the end-Ptouch 9/12/2025\\n\\n\\n######## student answers here ########\\n'"
      ]
     },
     "execution_count": 1,
     "metadata": {},
     "output_type": "execute_result"
    }
   ],
   "source": [
    "########## Question 1 (0 points) ##########\n",
    "\n",
    "## Resoures used / People worked with\n",
    "\n",
    "# Add resource at the end-Ptouch 9/12/2025\n",
    "\n",
    "\n",
    "######## student answers here ########"
   ]
  },
  {
   "cell_type": "code",
   "execution_count": 1,
   "id": "b6795676696390ae",
   "metadata": {
    "ExecuteTime": {
     "end_time": "2025-09-15T16:31:00.018029Z",
     "start_time": "2025-09-15T16:31:00.010901Z"
    },
    "collapsed": false
   },
   "outputs": [
    {
     "data": {
      "text/plain": [
       "\"\\n########## Question 2 (10 points) ##########\\n\\n# install pycrpytodome\\n# use bytes_to_long to encode the message\\nmessage = b'This is a secret message for Aaron and Matt: I want an A!'\\n\\n\\n\\n\\nencoded_message = ...  \\nprint('encoded_message:', encoded_message)\\n\\n\""
      ]
     },
     "execution_count": 1,
     "metadata": {},
     "output_type": "execute_result"
    }
   ],
   "source": [
    "# Done 9/13/25\n",
    "########## Question 2 (10 points) ##########\n",
    "\n",
    "# install pycrpytodome\n",
    "# use bytes_to_long to encode the message\n",
    "message = b'This is a secret message for Aaron and Matt: I want an A!'\n",
    "\n",
    "\n",
    "\n",
    "\n",
    "#encoded_message = ...  \n",
    "#print('encoded_message:', encoded_message)\n"
   ]
  },
  {
   "cell_type": "code",
   "execution_count": 1,
   "id": "b938ffa757ef3cce",
   "metadata": {
    "collapsed": false
   },
   "outputs": [
    {
     "name": "stdout",
     "output_type": "stream",
     "text": [
      "encoded_message: 61350900581473535129405983010356211867018600038007221145744717313351488407028771212587494491695427024167991689288623317672691990347661601\n"
     ]
    }
   ],
   "source": [
    "from Crypto.Util.number import bytes_to_long\n",
    "\n",
    "message = b'This is a secret message for Aaron and Matt: I want an A!'\n",
    "encoded_message = bytes_to_long(message)\n",
    "\n",
    "print('encoded_message:',encoded_message)"
   ]
  },
  {
   "cell_type": "code",
   "execution_count": null,
   "id": "8109f87446e3e6ff",
   "metadata": {
    "collapsed": false
   },
   "outputs": [],
   "source": [
    "#Done 9/14/2025\n",
    "########## Question 3 (10 points) ##########\n",
    "\n",
    "# use the documentation and provide me the public modulus and public exponent\n",
    "# https://pycryptodome.readthedocs.io/en/latest/src/public_key/rsa.html#Crypto.PublicKey.RSA.RsaKey\n",
    "\n",
    "\n",
    "n = ...\n",
    "e = ...\n",
    "print('n:', n, '\\ne:', e)"
   ]
  },
  {
   "cell_type": "code",
   "execution_count": 6,
   "id": "e13b5613f81bf25c",
   "metadata": {
    "collapsed": false
   },
   "outputs": [
    {
     "name": "stdout",
     "output_type": "stream",
     "text": [
      "Public Key (n): 23628605848877934573409990168054348107857582669531055102629520127845100389469282229051303755838337835923345019210626809695299675198272513246507782264979534803294437353764484593098082464748670805417996883400279969180655488414619423212138469762465090484136280858651040532349547564544262059632261435847464348954576961774422738165927870481090843377853602493321739720132954266054302876090475953119538349936520832058510673510693562483004827313327248468148692972248625005669923252900834368540913089556773177155640550516200124795194550299463075531747491106232978500394451164836314613594790538762694953428767575924263353340917\n",
      "Public Exponent (e): 65537\n"
     ]
    }
   ],
   "source": [
    "from Crypto.PublicKey import RSA\n",
    "\n",
    "key = RSA.generate(2048)\n",
    "n = key.n\n",
    "e = key.e\n",
    "\n",
    "print(\"Public Key (n):\", n)\n",
    "print(\"Public Exponent (e):\" , e)"
   ]
  },
  {
   "cell_type": "code",
   "execution_count": 7,
   "id": "31d93ec0-685a-451d-803a-fb2fcf47ad58",
   "metadata": {},
   "outputs": [
    {
     "name": "stdout",
     "output_type": "stream",
     "text": [
      "p: Ellipsis \n",
      "q: Ellipsis \n",
      "d: Ellipsis\n"
     ]
    }
   ],
   "source": [
    "#Done 9/15/20205\n",
    "########## Question 4 (10 points) ##########\n",
    "\n",
    "# use the documentation and provide me my private modulus' factorization and private exponent\n",
    "# https://pycryptodome.readthedocs.io/en/latest/src/public_key/rsa.html#Crypto.PublicKey.RSA.RsaKey\n",
    "\n",
    "\n",
    "\n",
    "\n",
    "p = ...\n",
    "q = ...\n",
    "d = ...\n",
    "print('p:', p, '\\nq:', q, '\\nd:', d)\n",
    "\n",
    "##%%\n"
   ]
  },
  {
   "cell_type": "code",
   "execution_count": 8,
   "id": "d84a8e65-9a8c-4713-a171-48ecbc5d0f57",
   "metadata": {},
   "outputs": [
    {
     "name": "stdout",
     "output_type": "stream",
     "text": [
      "RSA Modulus (n): 24581071742065974962334314514721023112788521456483497251962580380169155652208256625546897049150686598825390553849745863868191577777772748005044319087030127570409613882613430320010844936467115171595280342984830040947913527346804541345859190519442470765284835312449204111664538291532763298380179666174774773127444970322125251163257863659335764467741695228746315778675238328762541034973566508835846199564835686760490673852676622773446968570277302334568743306153673570751042635655835016248153979023410267577044565853099645767059198409947230851816876642012242673684168541662296612660391691808427002098483819840809489208499\n",
      "Public Exponent (e) 65537\n",
      "Private Key (d) 2636378736820143400067868482292049856718960546220036043518088674980682592724290642247419615766363674003138230358573991441926218780230475086248325661271263052816106565465154061360090163700312076249190923155475080608250060022898349346476711631004793124634742319776697982832446398998791418958974058524840805656508555792111592465149630098076637481520481126867713961564243225742311744130036512630303328380438280562962801105126005559341756901632377651875897812854085670475366523459008514581742169414424639182867371333366512800379692725525863061109226107509471637412808749762417657379256042774621934539920982535141350252561\n",
      "First Prime Factor (p): 146173971438807965501167585847573663478172257264104298932948734377987831314543601483945340710155930505620147008928462639967074784683027613118187682063266034454975685183533976758367424734139116187867028477473691836408954911743776456948330689800097226500071068424641426270633596208240038181222971753283569282953\n",
      "Second Prime Factor (q): 168163124392882892092830980637345644723364825013386625703904577245004935761711351191395917601473952690367312157926133338405100491771378979383303531186977092997717847053174418328364366650467967703364631546227582981940053975826375516519513172606477115824978532680027357158814394459143042457195201138378292737883\n"
     ]
    }
   ],
   "source": [
    "key = RSA.generate(2048)\n",
    "#RSA Modulus\n",
    "n = key.n\n",
    "#Public Exponent\n",
    "e = key.e\n",
    "#Private Key\n",
    "d = key.d\n",
    "#First Prime Factor\n",
    "p = key.p\n",
    "#Second Prime Factor\n",
    "q = key.q\n",
    "\n",
    "print(\"RSA Modulus (n):\", n)\n",
    "print(\"Public Exponent (e)\", e)\n",
    "print(\"Private Key (d)\", d)\n",
    "print(\"First Prime Factor (p):\", p)\n",
    "print(\"Second Prime Factor (q):\", q)"
   ]
  },
  {
   "cell_type": "code",
   "execution_count": null,
   "id": "629f4da8-ecde-417a-9bed-ab7dbf1b14c3",
   "metadata": {},
   "outputs": [],
   "source": [
    "#Done 9/15/2025\n",
    "########## Question 5 (20 points) ##########\n",
    "\n",
    "# encrypt the message with RSA\n",
    "# use PKCS1_OEAP as the cipher (an RSA cipher with OEAP padding)\n",
    "\n",
    "# https://pycryptodome.readthedocs.io/en/latest/src/examples.html\n",
    "message = b'This is a secret message for Aaron and Matt: I want an A!'\n",
    "\n",
    "\n",
    "\n",
    "\n",
    "\n",
    "#ciphertext = ...\n",
    "#print('ciphertext:', ciphertext)\n",
    "##%%\n"
   ]
  },
  {
   "cell_type": "code",
   "execution_count": 11,
   "id": "ff882924-ed48-4e71-8810-d48bf25dd72d",
   "metadata": {},
   "outputs": [
    {
     "name": "stdout",
     "output_type": "stream",
     "text": [
      "ciphertext: b'8\\x0e\\xce\\xa8dG\\xfd`g\\x87\\xbe\\x12P\\xa6e\\xc4\\x9a\\xfc\\xf2Y=\\x05\\xc4a\\x80\\xa3\\x9b\\x06\\x82+@p|\\n\\x08\\xb3\\x82\\x9d\\x8e\\xf9\\x1c\\xcc{\\xc24\\xe7%#\\x11\\xc8\\xfb\\x1a\\x1c\\xb4 \\x01\\xac\\x06w!A\\xa7\\xd1\\x1e\\x94\\x00\\x19\\xd1J\\x8a\\xdd\\xd9\\x9b_\\x10\\xc2\\xef\\x0f\\xcf\\xa2\\x90\\x16\\xff\\xf33\\x8d)w\\xbf\\xe8\\x0f\\xc5\\xa9bha4>r}\\x05<<\\xbf$\\xb2\\xbc}\\xf8P1\\xee\\xf8\\xf9#\\xe7\\x8d\\xbf\\xee\\xe8J\\xc4\\x18u\\x0bC\\x850\\xf7ml\\x83\"2*g\\xb4y~\\x81F\\xc7\\xbe\\x13\\x1a\\xcf\\x9b\\x95\\xaa\\xaePu\\xde\\\\\\x97\\xe0\\xdag\\r\\xf6\\xa4G/\\x00\\x92k `i_Ax\\x0f\\x8bw\\xbb\\x8b\\x11\\x1f\\xa4\\xf9\\xe0\\xb0O|\\xd7\\'\\x9e\\xf3@\\xd7\\x06\\xbcW\\xfa\\xbfq\\xbc\\xed\\xad\\xeaR\\xc1\\x12.^\\x10\\n\\xe8\\x85\\xebh\\\\TPb\\xee\\xa8\\x16\\xdfb\\xa3y\\xf3\\xde\\x88&=\\x16\\xa1\\x9f\\xcf/A\\xc3]\\x8b-adK#\\x87\\x10\\xde\\x96K\\xe2\\xa8\\xc9\\xb4\\x07Az\\xd6\\x90'\n",
      "*****************Debugging Line******************\n",
      "Key: Private RSA key at 0x18A23D31850\n",
      "Public_Key: Public RSA key at 0x18A23D02D50\n"
     ]
    }
   ],
   "source": [
    "from Crypto.Cipher import PKCS1_OAEP\n",
    "\n",
    "#Generate RSA Key\n",
    "key = RSA.generate(2048)\n",
    "public_key = key.publickey()\n",
    "\n",
    "#Message to encrypt\n",
    "message = b'This is a secret message for Aaron and Matt: I want an A!'\n",
    "\n",
    "#Create cipher PKCS1 obj using public key\n",
    "cipher = PKCS1_OAEP.new(public_key)\n",
    "ciphertext =  cipher.encrypt(message)\n",
    "\n",
    "print(\"ciphertext:\", ciphertext)\n",
    "\n",
    "#Debugging\n",
    "print(\"*****************Debugging Line******************\")\n",
    "print(\"Key:\", key)\n",
    "print(\"Public_Key:\", public_key)\n",
    "\n"
   ]
  },
  {
   "cell_type": "code",
   "execution_count": null,
   "id": "e52d3947-8dca-4199-a4ed-4b0982b4e6d3",
   "metadata": {},
   "outputs": [],
   "source": [
    "########## Question 6 (20 points) ##########\n",
    "\n",
    "# decrypt the message with RSA\n",
    "# use PKCS1_OEAP as the cipher (an RSA cipher with OEAP padding)\n",
    "\n",
    "# https://pycryptodome.readthedocs.io/en/latest/src/examples.html\n",
    "#message = b'\\x8f\\x1c\\xfc]\\x08\\xfe\\x92\\x0f\\x1a\\x8f\\xe6L\\xdb\\x8d\\x94\\x0c\\rR\\x08$\\xf8,s\\x81\\xf2\\xe6\\xbeF\\xf6\\xd1\\xda\\xe9]>\\xb6u\\xc6\\xb4\\x149Gs,\\xa9\\x10\\xf1\\xb6\\xfc\\xd3\\x11\\x17\\xfc\\x96\\x7fr\\xd2+\\xf7\\x9e\\x9bq\\x0c\\xcb:z\\xc3\\xffi:\\x98`\\x9a\\xab\\x8c\\x90\\x15\\xce1\\xda\\x07w\\xabX,\\x89\\xeb\\x17o\\xb4f\\xa7%\\x9c\\x0b\\x1d8C\\x98$\\xe2\\x95f+\\xc7\\x05\\x11\\xdb\\x0ch\\x9b\\xe2\\'\\x12)\\xf4 \\xe5RZy_@)9\\x95\\xaf\\xf9\\xeb\\xbao>t\\x8d\\xb8\\xbc\\x97NzFQ\\n\\xb2o\\xbd\\xdc\\xea\\xa4\\xefBp\\xc0\\xf2Rj\\x08\\x9f\\xa1\\xcea\\xd1\\xa3\\xe2\\x96#n\\x84\\xdaV\\x94&\"\\xf4q\\xaa\\xef\\xb6R\\xa1\\xff\\x9c\\xe1\\x82~2\\xff;\\xe3:\\x7fM\\xf6\\x02NgQ\\xf3pL)j\\n\\xcb\\xa1\\x04\\xdc#\\x87\\xd6\\xbb\\x98\\x9b\\x1b\\x87\\x07\\x11!)\\xbeR\\xfe\\x18\\xd1\\xa5\\xado\\x1cm\\xa2\\xde7\\xe8<\\xd1\\xc7\\xa4OW/\\xb6\\xbfjy~y\\x172\\xf3N\\xac\\xf5\\x89U$\\x07\\x83\\xb0'\n",
    "\n",
    "\n",
    "\n",
    "\n",
    "\n",
    "#plaintext = ...\n",
    "#print('plaintext:', plaintext)\n",
    "##%%\n"
   ]
  },
  {
   "cell_type": "code",
   "execution_count": null,
   "id": "7e3b0f6a-e64c-40cb-b47d-0fc487c38b6c",
   "metadata": {},
   "outputs": [],
   "source": []
  }
 ],
 "metadata": {
  "kernelspec": {
   "display_name": "Python 3 (ipykernel)",
   "language": "python",
   "name": "python3"
  },
  "language_info": {
   "codemirror_mode": {
    "name": "ipython",
    "version": 3
   },
   "file_extension": ".py",
   "mimetype": "text/x-python",
   "name": "python",
   "nbconvert_exporter": "python",
   "pygments_lexer": "ipython3",
   "version": "3.12.0"
  }
 },
 "nbformat": 4,
 "nbformat_minor": 5
}

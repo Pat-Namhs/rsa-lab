{
 "cells": [
  {
   "cell_type": "markdown",
   "id": "b8cae0ec-1c3f-479e-9a75-6efe3a112f47",
   "metadata": {},
   "source": [
    "# RSA Homework 3 \n",
    "## CYBER 202\n",
    "Patrick Touch"
   ]
  },
  {
   "cell_type": "code",
   "execution_count": 1,
   "id": "d26168a3-29c9-4af0-ae5f-a89731af9c64",
   "metadata": {
    "ExecuteTime": {
     "end_time": "2025-09-15T22:53:25.758424Z",
     "start_time": "2025-09-15T22:53:23.577747Z"
    }
   },
   "outputs": [
    {
     "name": "stdout",
     "output_type": "stream",
     "text": [
      "Requirement already satisfied: pycryptodome in c:\\users\\fitzpatrick\\appdata\\local\\programs\\python\\python312\\lib\\site-packages (3.23.0)\n"
     ]
    }
   ],
   "source": [
    "!pip install pycryptodome"
   ]
  },
  {
   "cell_type": "markdown",
   "id": "460ca207-12db-4bae-a74a-82ec375af5e9",
   "metadata": {},
   "source": [
    "########## Question 1 (0 points) ##########\n",
    "\n",
    "## Resoures used / People worked with\n",
    "Worked Alone\n",
    "#\n",
    "Resources:\n",
    "https://pycryptodome.readthedocs.io\n",
    "\n",
    "\n",
    "# Add resource at the end-Ptouch 9/12/2025\n",
    "\n",
    "\n",
    "######## student answers here ########"
   ]
  },
  {
   "cell_type": "markdown",
   "id": "ce5b2be8-a396-422b-90b2-dc32b5dae8b3",
   "metadata": {
    "ExecuteTime": {
     "end_time": "2025-09-15T17:55:54.045544Z",
     "start_time": "2025-09-15T17:55:54.041061Z"
    },
    "collapsed": false,
    "jupyter": {
     "outputs_hidden": false
    }
   },
   "source": [
    "# Done 9/13/25\n",
    "########## Question 2 (10 points) ##########\n",
    "\n",
    "# install pycrpytodome\n",
    "# use bytes_to_long to encode the message\n",
    "message = b'This is a secret message for Aaron and Matt: I want an A!'\n",
    "\n",
    "\n",
    "\n",
    "\n",
    "#encoded_message = ...  \n",
    "#print('encoded_message:', encoded_message)\n"
   ]
  },
  {
   "cell_type": "code",
   "execution_count": 7,
   "id": "b938ffa757ef3cce",
   "metadata": {
    "collapsed": false,
    "jupyter": {
     "outputs_hidden": false
    }
   },
   "outputs": [
    {
     "name": "stdout",
     "output_type": "stream",
     "text": [
      "encoded_message: 61350900581473535129405983010356211867018600038007221145744717313351488407028771212587494491695427024167991689288623317672691990347661601\n"
     ]
    }
   ],
   "source": [
    "#Question 2\n",
    "from Crypto.Util.number import bytes_to_long\n",
    "\n",
    "message = b'This is a secret message for Aaron and Matt: I want an A!'\n",
    "encoded_message = bytes_to_long(message)\n",
    "\n",
    "print('encoded_message:',encoded_message)"
   ]
  },
  {
   "cell_type": "markdown",
   "id": "3628a386-674c-43ad-908b-c4c47b658037",
   "metadata": {
    "ExecuteTime": {
     "end_time": "2025-09-17T16:18:12.952403Z",
     "start_time": "2025-09-17T16:18:12.945412Z"
    },
    "collapsed": false,
    "jupyter": {
     "outputs_hidden": false
    }
   },
   "source": [
    "#Done 9/14/2025\n",
    "########## Question 3 (10 points) ##########\n",
    "\n",
    "# use the documentation and provide me the public modulus and public exponent\n",
    "# https://pycryptodome.readthedocs.io/en/latest/src/public_key/rsa.html#Crypto.PublicKey.RSA.RsaKey\n",
    "\n",
    "\n",
    "n = ...\n",
    "e = ...\n",
    "print('n:', n, '\\ne:', e)"
   ]
  },
  {
   "cell_type": "code",
   "execution_count": 24,
   "id": "e13b5613f81bf25c",
   "metadata": {
    "collapsed": false,
    "jupyter": {
     "outputs_hidden": false
    }
   },
   "outputs": [
    {
     "name": "stdout",
     "output_type": "stream",
     "text": [
      "Public modulus N: 22906335060190800334132952890499973331143740797726805958507040016801432104850654831641504824820911475519480713024418251113565374596797253909499605367697368009042784056959268434699394055540499053370687602548424051341234071216620179505349120024318276414412021675413008616635740690540438212012951165403946456109168824490671489505019598024328032354881385974340981944258223245774818256281859869073022548567914622435902591610880524862550427584796695318714761562636141429803958842074373934764212139739847246823168166467638689002401000353035875413869429591952212794820173777686272041550035599870817593246969300817703949738103\n",
      "Public exponent E: 65537\n",
      "###Debug##\n",
      "Key Size (bits): 2048\n",
      "Ciphertext/Signature bytes: 256\n"
     ]
    }
   ],
   "source": [
    "# Question 3\n",
    "from Crypto.PublicKey import RSA\n",
    "\n",
    "\n",
    "with open(\"public_key.pem\", \"rb\") as f:\n",
    "    pub = RSA.import_key(f.read())\n",
    "\n",
    "\n",
    "\n",
    "print(\"Public modulus N:\", pub.n)\n",
    "print(\"Public exponent E:\", pub.e)\n",
    "#Debugging\n",
    "print(\"###Debug##\")\n",
    "print(\"Key Size (bits):\", pub.size_in_bits())\n",
    "print(\"Ciphertext/Signature bytes:\", pub.size_in_bytes())\n",
    "  \n"
   ]
  },
  {
   "cell_type": "markdown",
   "id": "362b5dbd-a3f5-4b73-be32-81fb593fce05",
   "metadata": {},
   "source": [
    "#Done 9/15/20205\n",
    "########## Question 4 (10 points) ##########\n",
    "\n",
    "# use the documentation and provide me my private modulus' factorization and private exponent\n",
    "# https://pycryptodome.readthedocs.io/en/latest/src/public_key/rsa.html#Crypto.PublicKey.RSA.RsaKey\n",
    "\n",
    "\n",
    "\n",
    "\n",
    "p = ...\n",
    "q = ...\n",
    "d = ...\n",
    "print('p:', p, '\\nq:', q, '\\nd:', d)\n",
    "\n",
    "##%%\n"
   ]
  },
  {
   "cell_type": "code",
   "execution_count": 30,
   "id": "d84a8e65-9a8c-4713-a171-48ecbc5d0f57",
   "metadata": {},
   "outputs": [
    {
     "name": "stdout",
     "output_type": "stream",
     "text": [
      "First Prime Factor (p): 151064822135023914000685662310325292385086444733780794869798900493764743886495074073170738073874936276823658115464391669173524243342942522141935728228899721501473106652726180501167711950517139742612453712321653347072442283556886579278167382437989275804733528282568691001432866566172783909104423634844878829829\n",
      "--------------\n",
      "Second Prime Factor (q): 151632489526362319538664915920542644673322390304547808107467309438871201483336069242452553019425073174227286559134582591427842777764538823016433416019927382481426602228162448632742306342315327522800971479202640649807992739017581934752058785919253406486607057012485375856874636869940080138937537212418442181707\n",
      "--------------\n",
      "Private Key (d) 2473186549367687003743301869984555461665518865445700580777206999998274769579370944484722952537234990932997322510349627613097770582219774610733161535954141569372823595633669277567372817446702951029967582825467271728803153759384842000394439374583458563992545666954887299865945971378978909443576032567836872658594942031503967083464214579986626415925589914669661031827884278890081664281451931938589760683131254123332014796544368098316852351323143843582785796611206435593783884316906511171399633967973458964412050433644894625311862311035673210907765131534217442303645630244903770220160642238307683656737565918959334251937\n",
      "###Debug Line##\n",
      "RSA Modulus (n): 22906335060190800334132952890499973331143740797726805958507040016801432104850654831641504824820911475519480713024418251113565374596797253909499605367697368009042784056959268434699394055540499053370687602548424051341234071216620179505349120024318276414412021675413008616635740690540438212012951165403946456109168824490671489505019598024328032354881385974340981944258223245774818256281859869073022548567914622435902591610880524862550427584796695318714761562636141429803958842074373934764212139739847246823168166467638689002401000353035875413869429591952212794820173777686272041550035599870817593246969300817703949738103\n",
      "Public Exponent (e) 65537\n"
     ]
    }
   ],
   "source": [
    "#Question 4\n",
    "from Crypto.PublicKey import RSA\n",
    "\n",
    "with open(\"private_key.pem\", \"rb\") as f:\n",
    "    key = RSA.import_key(f.read())\n",
    "                         \n",
    "#RSA Modulus\n",
    "n = key.n\n",
    "#Public Exponent\n",
    "e = key.e\n",
    "#Private Key\n",
    "d = key.d\n",
    "#First Prime Factor\n",
    "p = key.p\n",
    "#Second Prime Factor\n",
    "q = key.q\n",
    "\n",
    "\n",
    "print(\"First Prime Factor (p):\", p)\n",
    "print(\"--------------\")\n",
    "print(\"Second Prime Factor (q):\", q)\n",
    "print(\"--------------\")\n",
    "print(\"Private Key (d)\", d)\n",
    "print(\"###Debug Line##\")\n",
    "print(\"RSA Modulus (n):\", n)\n",
    "print(\"Public Exponent (e)\", e)"
   ]
  },
  {
   "cell_type": "markdown",
   "id": "676641c7-7706-49de-a471-f086e4d9aeac",
   "metadata": {},
   "source": [
    "#Done 9/15/2025\n",
    "########## Question 5 (20 points) ##########\n",
    "\n",
    "# encrypt the message with RSA\n",
    "# use PKCS1_OEAP as the cipher (an RSA cipher with OEAP padding)\n",
    "\n",
    "# https://pycryptodome.readthedocs.io/en/latest/src/examples.html\n",
    "message = b'This is a secret message for Aaron and Matt: I want an A!'\n",
    "\n",
    "\n",
    "\n",
    "\n",
    "\n",
    "#ciphertext = ...\n",
    "#print('ciphertext:', ciphertext)\n",
    "##%%\n"
   ]
  },
  {
   "cell_type": "code",
   "execution_count": 33,
   "id": "ff882924-ed48-4e71-8810-d48bf25dd72d",
   "metadata": {},
   "outputs": [
    {
     "name": "stdout",
     "output_type": "stream",
     "text": [
      "ciphertext: b'\\x84U\\x92\\xbd\\xef-\\x14\\x9d\\xf1Lxy\\xad7\\xceLPO?z\\xd0\\x84\\x1a\\xa8Th\\xd70\\x91^\\x02\\x9d\\x0bvZ\"\\xf1\\xca:8\\x8b\\xd8C\\x9b\\x9d\\x95\\xea\\xd3ps\\x94&\\xac\\x0c\\xa1^\\x99\\x992\\x18k\\xb0\\xc1{\\x14\\xe0\\x91\\xbb\\x9b \\x7f\\xa6\\x1d\\xfd\\x80\\xb7u\\x8fL \\xf7O\\x1a\\xea\\x9cU\\x11\\x819+\\xcc\\xd6\\xef\\x04\\x8dAT\\x9d\\xe8v3\\xbb%P\\xc1X\\xe7\\xce\\x8b\\xc47\\xf6\\x9a\\xd8\\xad\\xcd\\xc4\\xd4\\x08\\xbf\\xfb\\x16|vDt \\x85\\xf1\\x1c\\xadp\\xd5;\\xbf\\xef\\xf0\\x06\\xc7j<k\\xfb\\xbe@\\x9a\\x0f\\xd6Y\\x93\\xf5\\xa3\\xb1R\\x8a\\xb8\\xab\\t\\x1f\\x1e\\xb9d\\x1e!\\xa6e\\x0f\\xeeR\\xea\\x14\"\\x1e\\xe2\\xb0\\x83\\xee\\xa3\\x0f\\n\\xc8\\xe8\\xbf\\x98\\xfd\\xe7\\xc2]o07_t\\x828t\\xe7\\xad\\xf8:w\\x97TP\\x95\\x8aI&\\xf97\\x1c\\xe3<F\\xf6\\xe9w\\xf8ix\\xf4\\xef\\x91\\x89I\\x87\\x82\\xfc\\x99\\xcd\\xb7\\xbfu6s\\xfe\\xa7\\x8ct\\xc2\\xd3\\xa9|X\\x88c\\x88F\\x86\\x92\\x82z,/\\x96\\xbe'\n",
      "*****************Debugging Line******************\n",
      "ciphertext: <built-in method hex of bytes object at 0x00000168678A75A0>\n",
      "Key: 2048\n",
      "Ciphertext length (bytes): 256\n"
     ]
    }
   ],
   "source": [
    "#Question 5\n",
    "from Crypto.PublicKey import RSA\n",
    "from Crypto.Cipher import PKCS1_OAEP\n",
    "from Crypto.Hash import SHA256\n",
    "\n",
    "#Load Public Key\n",
    "with open(\"public_key.pem\", \"rb\") as f:\n",
    "    pub = RSA.import_key(f.read())\n",
    "\n",
    "#Debug generated keys\n",
    "#key = RSA.generate(2048)\n",
    "#public_key = key.publickey()\n",
    "\n",
    "#Message to encrypt\n",
    "message = b'This is a secret message for Aaron and Matt: I want an A!'\n",
    "\n",
    "#Create cipher PKCS1 obj using public key\n",
    "cipher = PKCS1_OAEP.new(pub, hashAlgo=SHA256)\n",
    "ciphertext =  cipher.encrypt(message)\n",
    "\n",
    "print(\"ciphertext:\", ciphertext)\n",
    "\n",
    "#Debugging\n",
    "print(\"*****************Debugging Line******************\")\n",
    "print(\"ciphertext:\", ciphertext.hex)\n",
    "print(\"Key:\", pub.size_in_bits())\n",
    "print(\"Ciphertext length (bytes):\", len(ciphertext))\n",
    "\n"
   ]
  },
  {
   "cell_type": "markdown",
   "id": "2b6de367-0738-4707-b880-ed22740e0c6c",
   "metadata": {},
   "source": [
    "########## Question 6 (20 points) ##########\n",
    "\n",
    "# decrypt the message with RSA\n",
    "# use PKCS1_OEAP as the cipher (an RSA cipher with OEAP padding)\n",
    "\n",
    "# https://pycryptodome.readthedocs.io/en/latest/src/examples.html\n",
    "#message = b'\\x8f\\x1c\\xfc]\\x08\\xfe\\x92\\x0f\\x1a\\x8f\\xe6L\\xdb\\x8d\\x94\\x0c\\rR\\x08$\\xf8,s\\x81\\xf2\\xe6\\xbeF\\xf6\\xd1\\xda\\xe9]>\\xb6u\\xc6\\xb4\\x149Gs,\\xa9\\x10\\xf1\\xb6\\xfc\\xd3\\x11\\x17\\xfc\\x96\\x7fr\\xd2+\\xf7\\x9e\\x9bq\\x0c\\xcb:z\\xc3\\xffi:\\x98`\\x9a\\xab\\x8c\\x90\\x15\\xce1\\xda\\x07w\\xabX,\\x89\\xeb\\x17o\\xb4f\\xa7%\\x9c\\x0b\\x1d8C\\x98$\\xe2\\x95f+\\xc7\\x05\\x11\\xdb\\x0ch\\x9b\\xe2\\'\\x12)\\xf4 \\xe5RZy_@)9\\x95\\xaf\\xf9\\xeb\\xbao>t\\x8d\\xb8\\xbc\\x97NzFQ\\n\\xb2o\\xbd\\xdc\\xea\\xa4\\xefBp\\xc0\\xf2Rj\\x08\\x9f\\xa1\\xcea\\xd1\\xa3\\xe2\\x96#n\\x84\\xdaV\\x94&\"\\xf4q\\xaa\\xef\\xb6R\\xa1\\xff\\x9c\\xe1\\x82~2\\xff;\\xe3:\\x7fM\\xf6\\x02NgQ\\xf3pL)j\\n\\xcb\\xa1\\x04\\xdc#\\x87\\xd6\\xbb\\x98\\x9b\\x1b\\x87\\x07\\x11!)\\xbeR\\xfe\\x18\\xd1\\xa5\\xado\\x1cm\\xa2\\xde7\\xe8<\\xd1\\xc7\\xa4OW/\\xb6\\xbfjy~y\\x172\\xf3N\\xac\\xf5\\x89U$\\x07\\x83\\xb0'\n",
    "\n",
    "\n",
    "\n",
    "\n",
    "\n",
    "#plaintext = ...\n",
    "#print('plaintext:', plaintext)\n",
    "##%%\n"
   ]
  },
  {
   "cell_type": "code",
   "execution_count": 6,
   "id": "f6a0298f-b940-4e13-8ea7-ad422a4ae9a6",
   "metadata": {},
   "outputs": [
    {
     "name": "stdout",
     "output_type": "stream",
     "text": [
      "plaintext: You found your first flag!    cyber202{Gr3@tJ0b!}\n"
     ]
    }
   ],
   "source": [
    "#Question 6\n",
    "#ISSUE with the private key?? Come back to it later-Complete\n",
    "#Fixed issue 9/17/2025\n",
    "#plaintext: You found your first flag!    cyber202{Gr3@tJ0b!}\n",
    "from Crypto.PublicKey import RSA\n",
    "from Crypto.Cipher import PKCS1_OAEP\n",
    "from Crypto.Hash import SHA256\n",
    "\n",
    "\n",
    "#Need key from Files\n",
    "with open('private_key.pem', 'rb') as f:\n",
    "    private_key = RSA.import_key(f.read())\n",
    "\n",
    "#Cipher obj according to doc using private key and OAEP Padding\n",
    "cipher = PKCS1_OAEP.new(private_key)\n",
    "\n",
    "#Cipher text input\n",
    "message = (b'\\x8f\\x1c\\xfc]\\x08\\xfe\\x92\\x0f\\x1a\\x8f\\xe6L\\xdb\\x8d\\x94\\x0c\\rR\\x08$\\xf8,s\\x81\\xf2\\xe6\\xbeF\\xf6\\xd1\\xda\\xe9]>\\xb6u\\xc6\\xb4\\x149Gs,\\xa9\\x10\\xf1\\xb6\\xfc\\xd3\\x11\\x17\\xfc\\x96\\x7fr\\xd2+\\xf7\\x9e\\x9bq\\x0c\\xcb:z\\xc3\\xffi:\\x98`\\x9a\\xab\\x8c\\x90\\x15\\xce1\\xda\\x07w\\xabX,\\x89\\xeb\\x17o\\xb4f\\xa7%\\x9c\\x0b\\x1d8C\\x98$\\xe2\\x95f+\\xc7\\x05\\x11\\xdb\\x0ch\\x9b\\xe2\\'\\x12)\\xf4 \\xe5RZy_@)9\\x95\\xaf\\xf9\\xeb\\xbao>t\\x8d\\xb8\\xbc\\x97NzFQ\\n\\xb2o\\xbd\\xdc\\xea\\xa4\\xefBp\\xc0\\xf2Rj\\x08\\x9f\\xa1\\xcea\\xd1\\xa3\\xe2\\x96#n\\x84\\xdaV\\x94&\"\\xf4q\\xaa\\xef\\xb6R\\xa1\\xff\\x9c\\xe1\\x82~2\\xff;\\xe3:\\x7fM\\xf6\\x02NgQ\\xf3pL)j\\n\\xcb\\xa1\\x04\\xdc#\\x87\\xd6\\xbb\\x98\\x9b\\x1b\\x87\\x07\\x11!)\\xbeR\\xfe\\x18\\xd1\\xa5\\xado\\x1cm\\xa2\\xde7\\xe8<\\xd1\\xc7\\xa4OW/\\xb6\\xbfjy~y\\x172\\xf3N\\xac\\xf5\\x89U$\\x07\\x83\\xb0')\n",
    "\n",
    "#Bug Checking to ensure the key sizing\n",
    "assert len(message) == private_key.size_in_bytes(), \"Ciphertext mismatch sizing\"\n",
    "\n",
    "plaintext = cipher.decrypt(message)\n",
    "\n",
    "print(\"plaintext:\", plaintext.decode(errors=\"replace\"))"
   ]
  },
  {
   "cell_type": "markdown",
   "id": "0385aa88-1760-4319-a67f-5f97eaae1723",
   "metadata": {},
   "source": [
    "#Incomplete Still need work 9/15/2025\n",
    "#Fixed Completed-9/17/2025\n",
    "########## Question 7 (30 points) ##########\n",
    "\n",
    "# create your own RSA key, include the public file in your submission\n",
    "# send me a message with your name, a message, and a class flag (like: cyber202{flag})\n",
    "# digitally sign the encrypted message using PKCS#1 v1.5\n",
    "# https://pycryptodome.readthedocs.io/en/latest/src/signature/pkcs1_v1_5.html\n",
    "\n",
    "\n",
    "\n",
    "\n",
    "#signature = ...\n",
    "#print('signature:', signature)"
   ]
  },
  {
   "cell_type": "code",
   "execution_count": 34,
   "id": "cf3d9c28-452f-46b1-987e-a36bddeb8bf0",
   "metadata": {},
   "outputs": [
    {
     "name": "stdout",
     "output_type": "stream",
     "text": [
      "Encrypted message (ciphertext bytes): b\"P^{z(\\x90\\x9776\\xce\\x04\\xe5\\xc6\\xa2\\xa7Ma\\xedpF\\xeb,\\xcd_r\\x02Ure\\xfcc\\x0e$\\xc6\\x88\\xd0\\x07s\\xce\\x96\\xcb\\xd8\\x8c\\xbd%\\x8d\\x13\\x9aE\\x9d\\xca\\x00\\xd0\\xbe\\xd1?\\x8c\\xc3\\x87\\x9d\\x10\\x01{\\x05N\\xfd\\xe1]1\\x1a\\xb26%v\\xf1\\xd7\\xdb\\x88\\xd40 Z\\xf1\\x0c\\xc8'Z\\xa5Q\\xae}\\x00\\xc4j\\xb7\\xb1Ga\\x8c \\xd1\\xc7\\xa9\\x9b\\xf7_\\xa2\\xe2#0X^\\xbb\\x9c)c\\x82\\xe6~\\x95\\xfb\\x84\\x1c\\x92\\x12H=k\\xcf\\xc2\\xb1\\xecW\\xf6\\x8f\\x16\\x87\\xfa\\x8bS5\\xdb\\x8a\\x9d\\x1c\\xdc(7\\xfa \\x96\\xf3a\\x9e\\x1b\\xaf\\xf7\\xe2\\x7f\\xa9\\x94\\x12\\xacp\\xb8\\xdb\\x03\\xaf\\x85\\x88s\\x0ex\\xfcHT\\xe2\\xc5\\xc1\\x17E\\xcb\\xea\\r\\x81\\x92\\xe25\\xda~5\\x83\\xe4aK\\xe8\\xf4w+\\xc3T\\xa9\\xbc[\\xba\\xb0?\\x80\\x19\\n*\\x02S\\x1dSQf\\x92\\x12\\xa3S\\x15N\\xce\\x8d3\\x991S\\xc4\\xa6\\xfcg\\xfa\\xda\\\\\\xf3\\xe3E\\xb6\\x9ds\\xe2\\xe0\\x0bmR\\xdfhYr\\x84\\x89\\xcd\\xa3\\xe9\"\n",
      "Encrypted message (hex): 505e7b7a2890973736ce04e5c6a2a74d61ed7046eb2ccd5f7202557265fc630e24c688d00773ce96cbd88cbd258d139a459dca00d0bed13f8cc3879d10017b054efde15d311ab2362576f1d7db88d430205af10cc8275aa551ae7d00c46ab7b147618c20d1c7a99bf75fa2e22330585ebb9c296382e67e95fb841c9212483d6bcfc2b1ec57f68f1687fa8b5335db8a9d1cdc2837fa2096f3619e1baff7e27fa99412ac70b8db03af8588730e78fc4854e2c5c11745cbea0d8192e235da7e3583e4614be8f4772bc354a9bc5bbab03f80190a2a02531d5351669212a353154ece8d33993153c4a6fc67fada5cf3e345b69d73e2e00b6d52df6859728489cda3e9\n",
      "Signature (bytes): b'\\x8d\\xd1\\xa5\\xbc?!\\x04\\xde\\x08\\xf0\\xe7\\xdf4\\x9c#\\x16\\x06tH\\xfa\\xf5\\xbf\\xce$\\xc8\\xa3c\\x01\\xf5\\xd4\\x8d\\xd2(\\x17\\x9b\\xd0\\x8f\\xc8:\\xab\\x1aJ\\'\\x90\\xc7\\xfd(\\x11\\xb4\\xadU\\xef9\\xe29\\x82\\xb0\\x0ch\\xb6Ef\\xf2\\xa0X@\\xcabS\\xa4\\x12\\xc8v%}C\\xec;~\\x1c\\x0f#\\xa4\\xe8\\x1b\\xbf\\x16B\\xeb\\xb6z\\x05\\xe2\\xaa\\x85\\x15\\x9e\\x0f\\x90X\\x8b\\xbf/\\x18!\\xbfS\\xa4\\x1b\\x8bb\\x12\\x94Ec\\xe5\\xf9\\x11?\\xf8,\\xbe\\xb3\\xd1Rr\\xe0\\xa8@\\x13\\xa5\\xfc&\\xc4\\x19\\xde\\xa7\\x139\\tV8\\xe5\\tj\\x03\\xdc\\xa0\\x03\\x88\\xed\\x89H\\xf4\\x1c\\x83-\\xda?\\x10h\\x8a\\x13}Gvr\\xd3\\x08\\xb5b\\x19\\xf9\\x7f\\xc2\\xf4\\x88\\x1f\\xbc1f\\x99\\x9b\\xbe8\\xd0y\\xea\\xe4:n\\xf7\\xb6W\\xd3\\xc3\\xd3\\x9c3\\x1b\\x13<\\xe8\\x99\\x98\\xe4O7\\x9f\\xa3\\x04\\xd1\\x17\"TL[\\xb2\\xb9\\xaa\\xdb\\xd9nq\\xd0jc?i\\xe3\\x8f\\xd5\\x16\\xa8\\xac\\x00\\x8c\\xab\\xf6D3\\xb2\\\\D!\\x8e\\xec\\x82\\x04xP\\xc7p\\xf3\\x90\\xba'\n",
      "Signature (hex): 8dd1a5bc3f2104de08f0e7df349c2316067448faf5bfce24c8a36301f5d48dd228179bd08fc83aab1a4a2790c7fd2811b4ad55ef39e23982b00c68b64566f2a05840ca6253a412c876257d43ec3b7e1c0f23a4e81bbf1642ebb67a05e2aa85159e0f90588bbf2f1821bf53a41b8b6212944563e5f9113ff82cbeb3d15272e0a84013a5fc26c419dea71339095638e5096a03dca00388ed8948f41c832dda3f10688a137d477672d308b56219f97fc2f4881fbc3166999bbe38d079eae43a6ef7b657d3c3d39c331b133ce89998e44f379fa304d11722544c5bb2b9aadbd96e71d06a633f69e38fd516a8ac008cabf64433b25c44218eec82047850c770f390ba\n",
      "Decrypted plaintext: Patrick Touch: Cryptography is very difficult and complex. Thank you for your guidance, Professor Aaron and Matt! cyber202{F33$23gfd^4f%@gf041}\n"
     ]
    }
   ],
   "source": [
    "#Question 7\n",
    "from Crypto.PublicKey import RSA\n",
    "from Crypto.Cipher import PKCS1_OAEP\n",
    "from Crypto.Signature import pkcs1_15\n",
    "from Crypto.Hash import SHA256\n",
    "\n",
    "#Step 1 -  Generate RSA key pair\n",
    "key = RSA.generate(2048)\n",
    "pubkey = key.publickey()\n",
    "\n",
    "# Step 2 - Save private pem file\n",
    "#pat_private_key_pem = key.export_key()\n",
    "with open('pat_private_key.pem', 'wb') as f:\n",
    "    f.write(key.export_key())\n",
    "\n",
    "#Step 3 - Save public pem file\n",
    "#public_key_pem = key.publickey().export_key()\n",
    "with open('pat_public_key.pem', 'wb') as f:\n",
    "    f.write(pubkey.export_key())\n",
    "\n",
    "#Step 4 - Message REQUIREMENT\n",
    "name = \"Patrick Touch\"\n",
    "message_text = \"Cryptography is very difficult and complex. Thank you for your guidance, Professor Aaron and Matt!\"\n",
    "class_flag = 'cyber202{F33$23gfd^4f%@gf041}'\n",
    "\n",
    "\n",
    "#Step 5 Prep String\n",
    "full_message = f\"{name}: {message_text} {class_flag}\"\n",
    "message_bytes = full_message.encode(\"utf-8\")\n",
    "\n",
    "#Step 6 - Encrypt message with Public Key with PKCS1_OAEP +SHA256\n",
    "#public_key = key.publickey()\n",
    "cipher = PKCS1_OAEP.new(pubkey, hashAlgo=SHA256)\n",
    "ciphertext = cipher.encrypt(message_bytes)\n",
    "\n",
    "print(\"Encrypted message (ciphertext bytes):\", ciphertext)\n",
    "print(\"Encrypted message (hex):\", ciphertext.hex())\n",
    "\n",
    "#Step 7 - Sign with a Digital Signature\n",
    "h = SHA256.new(ciphertext)\n",
    "signature = pkcs1_15.new(key).sign(h)\n",
    "      \n",
    "print(\"Signature (bytes):\", signature)\n",
    "print(\"Signature (hex):\", signature.hex())\n",
    "\n",
    "#Step 8 - Print out (optional) to decrypt - Code creates a unique code private/public key\n",
    "cipher_for_decrypt = PKCS1_OAEP.new(key, hashAlgo=SHA256)\n",
    "plaintext = cipher_for_decrypt.decrypt(ciphertext)\n",
    "print(\"Decrypted plaintext:\", plaintext.decode(\"utf-8\"))\n",
    "\n",
    "\n",
    "\n"
   ]
  },
  {
   "cell_type": "code",
   "execution_count": null,
   "id": "a9545c02-e1f7-418c-abbb-fc994da1aae3",
   "metadata": {},
   "outputs": [],
   "source": []
  }
 ],
 "metadata": {
  "kernelspec": {
   "display_name": "Python 3 (ipykernel)",
   "language": "python",
   "name": "python3"
  },
  "language_info": {
   "codemirror_mode": {
    "name": "ipython",
    "version": 3
   },
   "file_extension": ".py",
   "mimetype": "text/x-python",
   "name": "python",
   "nbconvert_exporter": "python",
   "pygments_lexer": "ipython3",
   "version": "3.12.0"
  }
 },
 "nbformat": 4,
 "nbformat_minor": 5
}
